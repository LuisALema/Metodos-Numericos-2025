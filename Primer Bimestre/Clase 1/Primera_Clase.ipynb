{
 "cells": [
  {
   "cell_type": "markdown",
   "id": "6e453f57",
   "metadata": {},
   "source": [
    "# ***Primera Clase***\n"
   ]
  },
  {
   "cell_type": "markdown",
   "id": "70f4ba54",
   "metadata": {},
   "source": [
    "## *Metodos Analiticos*\n"
   ]
  },
  {
   "cell_type": "markdown",
   "id": "d9b65a70",
   "metadata": {},
   "source": [
    "- Este se usa para poder tener soluciones matematicas Exactas\n"
   ]
  },
  {
   "cell_type": "markdown",
   "id": "4ca41172",
   "metadata": {},
   "source": [
    "## *Metodos Numericos*"
   ]
  },
  {
   "cell_type": "markdown",
   "id": "8a5a902e",
   "metadata": {},
   "source": [
    "- Esta es la solucion de las condiciones matematicas y estas no son exactas tipo son aproximaciones"
   ]
  },
  {
   "cell_type": "markdown",
   "id": "49b646eb",
   "metadata": {},
   "source": [
    "## *Comparacion entre estas dos*"
   ]
  },
  {
   "cell_type": "markdown",
   "id": "c1c80ed6",
   "metadata": {},
   "source": [
    "| Metodos Numericos  | Metodos Analiticos |\n",
    "|-----------|-----------|\n",
    "|Esta tiene una solucion exacta expresada en forma cerrada   | Aproximada y Resultados con error   |\n",
    "| Problemas con solucion conocida o manejable | Problemas Complejos o sin solucion exacta     |\n"
   ]
  },
  {
   "cell_type": "markdown",
   "id": "0345cfaf",
   "metadata": {},
   "source": [
    "## *Terminos Importantes a tener en cuenta*"
   ]
  },
  {
   "cell_type": "markdown",
   "id": "f34ce2b9",
   "metadata": {},
   "source": [
    "- ***Exactitud***"
   ]
  },
  {
   "cell_type": "markdown",
   "id": "b272faac",
   "metadata": {},
   "source": [
    "Esto se da cuando el valor se acerca mas al valor real"
   ]
  },
  {
   "cell_type": "markdown",
   "id": "a721cd1d",
   "metadata": {},
   "source": [
    "- ***Precision***"
   ]
  },
  {
   "cell_type": "markdown",
   "id": "9513d7a3",
   "metadata": {},
   "source": [
    "Esta es cuando los valores despues de varias pruebas son constantes osea son similares"
   ]
  },
  {
   "cell_type": "markdown",
   "id": "eaa752eb",
   "metadata": {},
   "source": [
    "### ***Lo que se desea en la simulacion es que los valores sean constantes osea que se desea que haya mas precision***"
   ]
  },
  {
   "cell_type": "markdown",
   "id": "64fe2fb2",
   "metadata": {},
   "source": [
    "### **El peor caso posible es cuando no existe ni exactitud ni precision**"
   ]
  },
  {
   "cell_type": "markdown",
   "id": "097a766e",
   "metadata": {},
   "source": [
    "."
   ]
  },
  {
   "cell_type": "markdown",
   "id": "37f975f8",
   "metadata": {},
   "source": [
    "# ***Ejercicios de Tipiado De lo visto en clase***"
   ]
  }
 ],
 "metadata": {
  "kernelspec": {
   "display_name": "Python 3",
   "language": "python",
   "name": "python3"
  },
  "language_info": {
   "name": "python",
   "version": "3.9.5"
  }
 },
 "nbformat": 4,
 "nbformat_minor": 5
}
