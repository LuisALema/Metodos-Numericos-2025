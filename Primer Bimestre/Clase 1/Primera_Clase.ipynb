{
 "cells": [
  {
   "cell_type": "markdown",
   "id": "6e453f57",
   "metadata": {},
   "source": [
    "## Primera Clase \n"
   ]
  }
 ],
 "metadata": {
  "language_info": {
   "name": "python"
  }
 },
 "nbformat": 4,
 "nbformat_minor": 5
}
