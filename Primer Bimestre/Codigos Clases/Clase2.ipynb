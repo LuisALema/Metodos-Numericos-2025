{
 "cells": [
  {
   "cell_type": "markdown",
   "id": "99127648",
   "metadata": {},
   "source": [
    "# Métodos Numéricos \n",
    "\n",
    "**Nombre:** Luis Alexander Lema Delgado\n",
    "**Materia:** Métodos Numéricos  \n",
    "**Fecha:** 12/05/2025"
   ]
  },
  {
   "cell_type": "markdown",
   "id": "5f7cef47",
   "metadata": {},
   "source": [
    "### IEEE 754 32 Bits"
   ]
  },
  {
   "cell_type": "code",
   "execution_count": 1,
   "id": "a9c0ae41",
   "metadata": {},
   "outputs": [
    {
     "name": "stdout",
     "output_type": "stream",
     "text": [
      "Número original : 3.14159\n",
      "IEEE-754 (binary): 01000000010010010000111111001111\n"
     ]
    }
   ],
   "source": [
    "def decimal_a_ieee_simple(num):\n",
    "    \"\"\"\n",
    "    Devuelve una cadena de 32 caracteres ('0' y '1')\n",
    "    que representa el número 'num' en formato IEEE-754 (simple precisión).\n",
    "    No se usan librerías externas, todo es “a mano”.\n",
    "    \"\"\"\n",
    "\n",
    "    # 1) Bit de signo \n",
    "    bit_signo = 0 if num >= 0 else 1\n",
    "    num = abs(num)                   # a partir de aquí trabajamos con valor positivo\n",
    "\n",
    "    # 2) Separar parte entera y fraccionaria \n",
    "    parte_entera = int(num)\n",
    "    parte_frac   = num - parte_entera\n",
    "\n",
    "    # 3) Parte entera a binario (divisiones sucesivas) \n",
    "    if parte_entera == 0:\n",
    "        bin_entera = '0'\n",
    "    else:\n",
    "        bin_entera = ''\n",
    "        temp = parte_entera\n",
    "        while temp > 0:\n",
    "            bin_entera = str(temp % 2) + bin_entera\n",
    "            temp //= 2\n",
    "\n",
    "    # 4) Parte fraccionaria a binario (multiplicaciones sucesivas) \n",
    "    bin_frac = ''\n",
    "    pasos = 0\n",
    "    while parte_frac != 0 and pasos < 23:   # 23 es el máximo que interesa para la mantisa\n",
    "        parte_frac *= 2\n",
    "        bit = int(parte_frac)\n",
    "        bin_frac += str(bit)\n",
    "        parte_frac -= bit\n",
    "        pasos += 1\n",
    "\n",
    "    # 5) Unir ambas partes y localizar el “punto binario” \n",
    "    secuencia_total = bin_entera + bin_frac         # sin el punto, solo la secuencia\n",
    "    exponente_val   = len(bin_entera) - 1           # desplazamiento verdadero\n",
    "\n",
    "    # 6) Exponente con sesgo (bias = 127) \n",
    "    exp_biased = exponente_val + 127                # sesgo de IEEE-754\n",
    "    # conversión manual a 8 bits\n",
    "    exp_bits = ''\n",
    "    temp = exp_biased\n",
    "    for _ in range(8):\n",
    "        exp_bits = str(temp % 2) + exp_bits\n",
    "        temp //= 2\n",
    "\n",
    "    # 7) Mantisa: todo lo que queda después del primer '1' \n",
    "    mantisa = (secuencia_total[1:] + '0' * 23)[:23]  # se rellena con ceros si hace falta\n",
    "\n",
    "    # 8) Empaquetar resultado final \n",
    "    resultado_ieee = str(bit_signo) + exp_bits + mantisa\n",
    "    return resultado_ieee\n",
    "\n",
    "# Prueba rápida\n",
    "if __name__ == \"__main__\":\n",
    "    numero = 3.14159\n",
    "    ieee = decimal_a_ieee_simple(numero)\n",
    "    print(\"Número original :\", numero)\n",
    "    print(\"IEEE-754 (binary):\", ieee)"
   ]
  },
  {
   "cell_type": "markdown",
   "id": "24b08321",
   "metadata": {},
   "source": [
    "### Bin integrada nativamente"
   ]
  },
  {
   "cell_type": "code",
   "execution_count": 2,
   "id": "2d0ce38e",
   "metadata": {},
   "outputs": [
    {
     "name": "stdout",
     "output_type": "stream",
     "text": [
      "Número decimal: 1000\n",
      "En binario: 0b1111101000\n"
     ]
    }
   ],
   "source": [
    "\n",
    "numero = 1000\n",
    "binario = bin(numero)\n",
    "print(\"Número decimal:\", numero)\n",
    "print(\"En binario:\", binario)\n"
   ]
  },
  {
   "cell_type": "markdown",
   "id": "be86e06a",
   "metadata": {},
   "source": [
    "### IEEE 754 a Decimal"
   ]
  },
  {
   "cell_type": "code",
   "execution_count": 3,
   "id": "0bebffbf",
   "metadata": {},
   "outputs": [
    {
     "name": "stdout",
     "output_type": "stream",
     "text": [
      "Cadena IEEE: 01000000010010010000111111011011\n",
      "Valor decimal aproximado: 3.1415927410125732\n"
     ]
    }
   ],
   "source": [
    "\n",
    "def binario_a_entero(cadena):\n",
    "    \"\"\"Convierte un numero binario como '101' a su valor entero (manual).\"\"\"\n",
    "    resultado = 0\n",
    "    potencia = 0\n",
    "    for i in range(len(cadena) - 1, -1, -1):\n",
    "        if cadena[i] == '1':\n",
    "            resultado += 2 ** potencia\n",
    "        potencia += 1\n",
    "    return resultado\n",
    "\n",
    "def ieee_a_decimal(cadena_bits):\n",
    "    # Bit de signo\n",
    "    signo_bit = int(cadena_bits[0])\n",
    "\n",
    "    # Cálculo manual del exponente (8 bits después del bit de signo)\n",
    "    bits_exponente = cadena_bits[1:9]\n",
    "    valor_exponente = binario_a_entero(bits_exponente) - 127  # sesgo 127\n",
    "\n",
    "    # Se forma la mantisa con el 1 implícito al inicio\n",
    "    parte_mantisa = '1' + cadena_bits[9:]  # se asume número normalizado\n",
    "\n",
    "    # Cálculo del valor decimal usando potencias de 2\n",
    "    resultado = 0\n",
    "    for i in range(len(parte_mantisa)):\n",
    "        bit = int(parte_mantisa[i])\n",
    "        potencia = valor_exponente - i\n",
    "        resultado += bit * (2 ** potencia)\n",
    "\n",
    "    # Si el bit de signo es 1, el número es negativo\n",
    "    if signo_bit == 1:\n",
    "        resultado *= -1\n",
    "\n",
    "    return resultado\n",
    "\n",
    "# Ejemplo de uso\n",
    "if __name__ == \"__main__\":\n",
    "    bits_ejemplo = '01000000010010010000111111011011'  # aproximación a 3.14159\n",
    "    decimal = ieee_a_decimal(bits_ejemplo)\n",
    "    print(\"Cadena IEEE:\", bits_ejemplo)\n",
    "    print(\"Valor decimal aproximado:\", decimal)"
   ]
  },
  {
   "cell_type": "markdown",
   "id": "07ee03dd",
   "metadata": {},
   "source": [
    "### Error por punto flotante"
   ]
  },
  {
   "cell_type": "code",
   "execution_count": 4,
   "id": "fc432e75",
   "metadata": {},
   "outputs": [
    {
     "name": "stdout",
     "output_type": "stream",
     "text": [
      "Resultado de 0.1 + 0.2 = 0.30000000000000004\n",
      "Valor esperado (0.3)  = 0.3\n",
      "¿Son exactamente iguales? No\n",
      "Diferencia absoluta entre ambos valores: 5.551115123125783e-17\n"
     ]
    }
   ],
   "source": [
    "\n",
    "# Suma de dos valores decimales que deberían dar 0.3\n",
    "valor_1 = 0.1\n",
    "valor_2 = 0.2\n",
    "suma = valor_1 + valor_2\n",
    "\n",
    "# Valor teórico con el que comparamos\n",
    "valor_esperado = 0.3\n",
    "\n",
    "# Mostramos los valores obtenidos\n",
    "print(\"Resultado de 0.1 + 0.2 =\", suma)\n",
    "print(\"Valor esperado (0.3)  =\", valor_esperado)\n",
    "\n",
    "# Comprobación directa de igualdad\n",
    "if suma == valor_esperado:\n",
    "    print(\"¿Son exactamente iguales? Sí\")\n",
    "else:\n",
    "    print(\"¿Son exactamente iguales? No\")\n",
    "\n",
    "# Cálculo manual de diferencia absoluta (sin usar abs)\n",
    "diferencia = suma - valor_esperado\n",
    "if diferencia < 0:\n",
    "    diferencia = -diferencia\n",
    "\n",
    "print(\"Diferencia absoluta entre ambos valores:\", diferencia)\n"
   ]
  }
 ],
 "metadata": {
  "kernelspec": {
   "display_name": "Python 3",
   "language": "python",
   "name": "python3"
  },
  "language_info": {
   "codemirror_mode": {
    "name": "ipython",
    "version": 3
   },
   "file_extension": ".py",
   "mimetype": "text/x-python",
   "name": "python",
   "nbconvert_exporter": "python",
   "pygments_lexer": "ipython3",
   "version": "3.13.3"
  }
 },
 "nbformat": 4,
 "nbformat_minor": 5
}
