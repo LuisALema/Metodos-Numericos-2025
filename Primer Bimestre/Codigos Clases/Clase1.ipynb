{
 "cells": [
  {
   "cell_type": "markdown",
   "id": "99127648",
   "metadata": {},
   "source": [
    "# Métodos Numéricos \n",
    "\n",
    "**Nombre:** Luis Alexander Lema Delgado\n",
    "**Materia:** Métodos Numéricos  \n",
    "**Fecha:** 12/05/2025"
   ]
  },
  {
   "cell_type": "markdown",
   "id": "5f7cef47",
   "metadata": {},
   "source": [
    "### Función cuadrática"
   ]
  },
  {
   "cell_type": "code",
   "execution_count": 1,
   "id": "a9c0ae41",
   "metadata": {},
   "outputs": [
    {
     "name": "stdout",
     "output_type": "stream",
     "text": [
      "Resultados de la función cuadrática:\n",
      "Para x = 0 el resultado es 4\n",
      "Para x = 1 el resultado es 1\n",
      "Para x = 2 el resultado es 0\n",
      "Para x = 3 el resultado es 1\n",
      "Para x = 4 el resultado es 4\n",
      "Para x = 5 el resultado es 9\n"
     ]
    }
   ],
   "source": [
    "# Se define una función cuadrática simple para ver cómo se comporta\n",
    "def evaluar_funcion(x):\n",
    "    resultado = x * x - 4 * x + 4\n",
    "    return resultado\n",
    "\n",
    "# Se evalúa la función para varios valores de x dentro de un rango\n",
    "inicio = 0\n",
    "fin = 6\n",
    "\n",
    "print(\"Resultados de la función cuadrática:\")\n",
    "for valor in range(inicio, fin):\n",
    "    print(\"Para x =\", valor, \"el resultado es\", evaluar_funcion(valor))"
   ]
  },
  {
   "cell_type": "markdown",
   "id": "24b08321",
   "metadata": {},
   "source": [
    "### Método analitico"
   ]
  },
  {
   "cell_type": "code",
   "execution_count": 3,
   "id": "2d0ce38e",
   "metadata": {},
   "outputs": [
    {
     "name": "stdout",
     "output_type": "stream",
     "text": [
      "Las soluciones reales son:\n",
      "x1 = 3.0\n",
      "x2 = 2.0\n"
     ]
    }
   ],
   "source": [
    "\n",
    "# Coeficientes de la ecuación\n",
    "coef_a = 1\n",
    "coef_b = -5\n",
    "coef_c = 6\n",
    "\n",
    "# Cálculo del valor dentro de la raíz (discriminante)\n",
    "valor_discriminante = coef_b * coef_b - 4 * coef_a * coef_c\n",
    "\n",
    "# Aplicación de la fórmula general si hay soluciones reales\n",
    "if valor_discriminante >= 0:\n",
    "    # Se obtiene la raíz cuadrada manualmente usando potenciación\n",
    "    raiz_cuadrada = valor_discriminante ** 0.5\n",
    "\n",
    "    # Fórmula general para obtener las dos soluciones reales\n",
    "    solucion_1 = (-coef_b + raiz_cuadrada) / (2 * coef_a)\n",
    "    solucion_2 = (-coef_b - raiz_cuadrada) / (2 * coef_a)\n",
    "\n",
    "    print(\"Las soluciones reales son:\")\n",
    "    print(\"x1 =\", solucion_1)\n",
    "    print(\"x2 =\", solucion_2)\n",
    "else:\n",
    "    print(\"No hay soluciones reales, las raíces son complejas.\")\n"
   ]
  },
  {
   "cell_type": "markdown",
   "id": "be86e06a",
   "metadata": {},
   "source": [
    "### Método numérico"
   ]
  },
  {
   "cell_type": "code",
   "execution_count": 4,
   "id": "0bebffbf",
   "metadata": {},
   "outputs": [
    {
     "name": "stdout",
     "output_type": "stream",
     "text": [
      "Resultado aproximado de la raíz: 0.4178466796875\n"
     ]
    }
   ],
   "source": [
    "\n",
    "# Definimos la función a analizar\n",
    "def funcion(x):\n",
    "    return x * x - 10 * x + 4\n",
    "\n",
    "# Implementación del método de bisección\n",
    "def metodo_biseccion(inicio, fin, margen_error, max_intentos):\n",
    "    # Comprobamos si el método se puede aplicar\n",
    "    if funcion(inicio) * funcion(fin) >= 0:\n",
    "        print(\"No es posible usar bisección en este intervalo.\")\n",
    "        return None\n",
    "\n",
    "    contador = 0\n",
    "    while (fin - inicio) / 2 > margen_error and contador < max_intentos:\n",
    "        punto_medio = (inicio + fin) / 2\n",
    "        valor_funcion = funcion(punto_medio)\n",
    "\n",
    "        # Si encontramos raíz exacta\n",
    "        if valor_funcion == 0:\n",
    "            return punto_medio\n",
    "        elif funcion(inicio) * valor_funcion < 0:\n",
    "            fin = punto_medio\n",
    "        else:\n",
    "            inicio = punto_medio\n",
    "\n",
    "        contador += 1\n",
    "\n",
    "    # Se devuelve el valor medio como aproximación\n",
    "    return (inicio + fin) / 2\n",
    "\n",
    "# Llamada al método con los parámetros definidos\n",
    "resultado = metodo_biseccion(-1, 4, 0.001, 100)\n",
    "\n",
    "# Mostrar el resultado obtenido con los criterios establecidos\n",
    "print(\"Resultado aproximado de la raíz:\", resultado)\n"
   ]
  },
  {
   "cell_type": "markdown",
   "id": "07ee03dd",
   "metadata": {},
   "source": [
    "### Cálculo de errores comunes en aproximaciones numéricas"
   ]
  },
  {
   "cell_type": "code",
   "execution_count": 2,
   "id": "fc432e75",
   "metadata": {},
   "outputs": [
    {
     "name": "stdout",
     "output_type": "stream",
     "text": [
      "Cálculo de errores:\n",
      "Error absoluto: 0.00021356237309522186\n",
      "Error relativo: 0.00015101140222192286\n",
      "Error porcentual: 0.015101140222192286\n"
     ]
    }
   ],
   "source": [
    "\n",
    "# Valor verdadero (raíz cuadrada de 2)\n",
    "valor_real = 2 ** 0.5\n",
    "\n",
    "# Valor estimado manualmente\n",
    "valor_aproximado = 1.414\n",
    "\n",
    "# Se calcula el error absoluto como la diferencia en valor absoluto\n",
    "error_abs = valor_real - valor_aproximado\n",
    "if error_abs < 0:\n",
    "    error_abs = -error_abs\n",
    "\n",
    "# El error relativo se obtiene dividiendo el error absoluto entre el valor real\n",
    "error_rel = error_abs / valor_real\n",
    "\n",
    "# Para obtener el error en porcentaje, se multiplica el error relativo por 100\n",
    "error_porcentual = error_rel * 100\n",
    "\n",
    "# Se muestran los resultados obtenidos\n",
    "print(\"Cálculo de errores:\")\n",
    "print(\"Error absoluto:\", error_abs)\n",
    "print(\"Error relativo:\", error_rel)\n",
    "print(\"Error porcentual:\", error_porcentual)\n"
   ]
  }
 ],
 "metadata": {
  "kernelspec": {
   "display_name": "Python 3",
   "language": "python",
   "name": "python3"
  },
  "language_info": {
   "codemirror_mode": {
    "name": "ipython",
    "version": 3
   },
   "file_extension": ".py",
   "mimetype": "text/x-python",
   "name": "python",
   "nbconvert_exporter": "python",
   "pygments_lexer": "ipython3",
   "version": "3.13.3"
  }
 },
 "nbformat": 4,
 "nbformat_minor": 5
}
