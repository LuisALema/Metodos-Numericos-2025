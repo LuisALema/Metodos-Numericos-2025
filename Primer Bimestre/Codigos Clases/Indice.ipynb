{
 "cells": [
  {
   "cell_type": "markdown",
   "id": "989d6da2",
   "metadata": {},
   "source": [
    "# Métodos Numéricos \n",
    "\n",
    "**Nombre:** Luis Alexander Lema Delgado\n",
    "**Materia:** Métodos Numéricos  \n",
    "**Fecha:** 12/05/2025"
   ]
  },
  {
   "cell_type": "markdown",
   "id": "1e01f4ec",
   "metadata": {},
   "source": [
    "# Este es solo el indice de los contenidos vistos en clase que se ira actualizando dependiendo las clases vistas  "
   ]
  },
  {
   "cell_type": "markdown",
   "id": "068cc7b7",
   "metadata": {},
   "source": [
    "# Índice de Contenidos\n",
    "\n",
    "## Fundamentos\n",
    "- Métodos Analíticos  \n",
    "- Métodos Numéricos  \n",
    "- Exactitud vs Precisión  \n",
    "\n",
    "## Errores\n",
    "- Tipos de Errores  \n",
    "- Cálculo de Error  \n",
    "- Representación Numérica (32 y 64 bits)  \n",
    "- Aritmética de Computador  \n",
    "\n",
    "## Criterios de Control\n",
    "- Convergencia, Divergencia y Tolerancia  \n",
    "- Criterios de Parada  \n",
    "\n",
    "## Métodos de Búsqueda de Raíces\n",
    "- Método de la Bisección  \n",
    "- Método de Newton (Newton-Raphson)  \n",
    "- Método de la Secante  \n",
    "- Método de Posición Falsa  \n",
    "\n",
    "## Interpolación y Aproximación\n",
    "- Polinomio de Taylor  \n",
    "- Series de Maclaurin  \n",
    "- Polinomio de Lagrange  \n",
    "\n",
    "## Métodos de Suavizado\n",
    "- Spline Cúbico Natural  \n",
    "- Spline Cúbico Condicionado  \n",
    "\n",
    "## Ajuste de Datos\n",
    "- Método de Mínimos Cuadrados  \n"
   ]
  }
 ],
 "metadata": {
  "language_info": {
   "name": "python"
  }
 },
 "nbformat": 4,
 "nbformat_minor": 5
}
